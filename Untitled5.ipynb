{
 "cells": [
  {
   "cell_type": "markdown",
   "id": "2aa50977",
   "metadata": {},
   "source": [
    "## Домашнее задание\n",
    "1. Попробуйте обучить нейронную сеть RNN/LSTM/GRU на любом другом датасете (любимый временной ряд, текст на русском (другом языке) как генератор или классификатор, или прилагаемый набор airline-passengers - пасажиропоток для авиалиний). \n",
    "\n",
    "2. Опишите, какой результат вы получили? Что помогло вам улучшить ее точность?"
   ]
  },
  {
   "cell_type": "code",
   "execution_count": 1,
   "id": "d2b7e9b2",
   "metadata": {},
   "outputs": [],
   "source": [
    "import numpy as np\n",
    "import matplotlib.pyplot as plt\n",
    "from pandas import read_csv\n",
    "import math\n",
    "from keras.models import Sequential\n",
    "from keras.layers import Dense\n",
    "from keras.layers import SimpleRNN, LSTM, GRU\n",
    "from sklearn.preprocessing import MinMaxScaler\n",
    "from sklearn.metrics import mean_squared_error\n",
    "\n",
    "import tensorflow as tf\n",
    "tf.random.set_seed(1)\n",
    "%matplotlib inline"
   ]
  },
  {
   "cell_type": "code",
   "execution_count": 2,
   "id": "0a5c2d37",
   "metadata": {},
   "outputs": [],
   "source": [
    "# Загрузка данных\n",
    "df = read_csv('airline-passengers.csv', usecols=[1])"
   ]
  },
  {
   "cell_type": "code",
   "execution_count": 3,
   "id": "f3d969d5",
   "metadata": {},
   "outputs": [],
   "source": [
    "# Нормирование\n",
    "scaler = MinMaxScaler()\n",
    "df = scaler.fit_transform(df)"
   ]
  },
  {
   "cell_type": "code",
   "execution_count": 4,
   "id": "170e1c20",
   "metadata": {},
   "outputs": [],
   "source": [
    "def create_dataset(dataset, look_back=1):\n",
    "    dataX, dataY = [], []\n",
    "    for i in range(len(dataset)-look_back-1):\n",
    "        a = dataset[i:(i+look_back), 0]\n",
    "        dataX.append(a)\n",
    "        dataY.append(dataset[i + look_back, 0])\n",
    "    return np.array(dataX), np.array(dataY)"
   ]
  },
  {
   "cell_type": "code",
   "execution_count": 5,
   "id": "86364fc5",
   "metadata": {},
   "outputs": [],
   "source": [
    "train_size = int(len(df) * 0.67)\n",
    "test_size = len(df) - train_size\n",
    "train, test = df[0:train_size,:], df[train_size:len(df),:]\n",
    "\n",
    "look_back = 3\n",
    "trainX, trainY = create_dataset(train, look_back)\n",
    "testX, testY = create_dataset(test, look_back)"
   ]
  },
  {
   "cell_type": "code",
   "execution_count": 6,
   "id": "74bee5aa",
   "metadata": {},
   "outputs": [],
   "source": [
    "trainX = np.reshape(trainX, (trainX.shape[0], trainX.shape[1], 1))\n",
    "testX = np.reshape(testX, (testX.shape[0], testX.shape[1], 1))"
   ]
  },
  {
   "cell_type": "code",
   "execution_count": 7,
   "id": "acab8cc7",
   "metadata": {},
   "outputs": [
    {
     "name": "stdout",
     "output_type": "stream",
     "text": [
      "==================================================Модель node_4\n",
      "Train Score mse: 0.05 RMSE\n",
      "Test Score mse: 0.12 RMSE\n",
      "==================================================Модель node_6\n",
      "Train Score mse: 0.04 RMSE\n",
      "Test Score mse: 0.09 RMSE\n",
      "==================================================Модель node_10\n",
      "Train Score mse: 0.04 RMSE\n",
      "Test Score mse: 0.12 RMSE\n",
      "==================================================Модель node_20\n",
      "Train Score mse: 0.05 RMSE\n",
      "Test Score mse: 0.11 RMSE\n",
      "Wall time: 48.2 s\n"
     ]
    }
   ],
   "source": [
    "%%time\n",
    "tf.random.set_seed(1)\n",
    "batch_size = 1\n",
    "models = {}\n",
    "models_res = np.array([0,0])\n",
    "\n",
    "for node in [4, 6, 10, 20]:\n",
    "    print('=' * 50 + f'Модель node_{node}')\n",
    "    model = Sequential(name='node_' + str(node))\n",
    "    model.add(LSTM(node, batch_input_shape=(batch_size, look_back, 1), stateful=True))\n",
    "    model.add(Dense(1))\n",
    "    model.compile(loss='mean_squared_error', optimizer='adam', metrics='mse')\n",
    "    for i in range(100):\n",
    "        model.fit(trainX, trainY, epochs=1, batch_size=batch_size, verbose=0, shuffle=False)\n",
    "        model.reset_states()\n",
    "\n",
    "    trainPredict = model.predict(trainX, batch_size=batch_size)\n",
    "    model.reset_states()\n",
    "    testPredict = model.predict(testX, batch_size=batch_size)\n",
    "    \n",
    "    trainScore = math.sqrt(mean_squared_error(trainY, trainPredict[:,0]))\n",
    "    print('Train Score mse: %.2f RMSE' % (trainScore))\n",
    "    testScore = math.sqrt(mean_squared_error(testY, testPredict[:,0]))\n",
    "    print('Test Score mse: %.2f RMSE' % (testScore))\n",
    "\n",
    "    models_res = np.vstack((models_res, np.array([str(model.name), testScore])))\n",
    "    models[str(model.name)] = model"
   ]
  },
  {
   "cell_type": "code",
   "execution_count": 8,
   "id": "92aa3b60",
   "metadata": {},
   "outputs": [],
   "source": [
    "models_res = models_res[1:]"
   ]
  },
  {
   "cell_type": "code",
   "execution_count": 9,
   "id": "6c3b65b8",
   "metadata": {},
   "outputs": [
    {
     "data": {
      "text/plain": [
       "array([['node_4', '0.11675895905323899'],\n",
       "       ['node_6', '0.09495247018186974'],\n",
       "       ['node_10', '0.12127375195534859'],\n",
       "       ['node_20', '0.11439663710194022']], dtype='<U32')"
      ]
     },
     "execution_count": 9,
     "metadata": {},
     "output_type": "execute_result"
    }
   ],
   "source": [
    "models_res"
   ]
  },
  {
   "cell_type": "markdown",
   "id": "7e3a2343",
   "metadata": {},
   "source": [
    "### По результатам проверки, видно, что гиперпараметр units, внутреннее количество узлов, разнонаправлено влияет на метрику качества mse. Оптимальное значение 6"
   ]
  },
  {
   "cell_type": "code",
   "execution_count": 10,
   "id": "41d88baf",
   "metadata": {},
   "outputs": [],
   "source": [
    "# Построение графика по лучшим результатам\n",
    "trainPredict = models['node_6'].predict(trainX, batch_size=batch_size)\n",
    "#models['node_6'].reset_states()\n",
    "testPredict = models['node_6'].predict(testX, batch_size=batch_size)\n",
    "\n",
    "trainPredict = scaler.inverse_transform(trainPredict)\n",
    "trainY = scaler.inverse_transform([trainY])\n",
    "testPredict = scaler.inverse_transform(testPredict)\n",
    "testY = scaler.inverse_transform([testY])\n",
    "\n",
    "trainPredictPlot = np.empty_like(df)\n",
    "trainPredictPlot[:, :] = np.nan\n",
    "trainPredictPlot[look_back:len(trainPredict)+look_back, :] = trainPredict\n",
    "\n",
    "testPredictPlot = np.empty_like(df)\n",
    "testPredictPlot[:, :] = np.nan\n",
    "testPredictPlot[len(trainPredict)+(look_back*2)+1:len(df)-1, :] = testPredict"
   ]
  },
  {
   "cell_type": "code",
   "execution_count": 11,
   "id": "4498913f",
   "metadata": {},
   "outputs": [
    {
     "data": {
      "image/png": "[encoded data removed]",
      "text/plain": [
       "<Figure size 432x288 with 1 Axes>"
      ]
     },
     "metadata": {
      "needs_background": "light"
     },
     "output_type": "display_data"
    }
   ],
   "source": [
    "plt.plot(scaler.inverse_transform(df), label='data')\n",
    "plt.plot(trainPredictPlot, label='train')\n",
    "plt.plot(testPredictPlot, '--', label='test')\n",
    "plt.legend()\n",
    "plt.show()"
   ]
  },
  {
   "cell_type": "markdown",
   "id": "9c551225",
   "metadata": {},
   "source": [
    "### Видно, что на тесте (зелёный пунктир) значения немного ниже реальных данных, но общаяя тенденция предсказана верно"
   ]
  },
  {
   "cell_type": "code",
   "execution_count": 12,
   "id": "e7f14212",
   "metadata": {},
   "outputs": [],
   "source": [
    "df = scaler.fit_transform(df)\n",
    "train_size = int(len(df) * 0.67)\n",
    "test_size = len(df) - train_size\n",
    "train, test = df[0:train_size,:], df[train_size:len(df),:]\n",
    "\n",
    "look_back = 3\n",
    "trainX, trainY = create_dataset(train, look_back)\n",
    "testX, testY = create_dataset(test, look_back)\n",
    "\n",
    "trainX = np.reshape(trainX, (trainX.shape[0], trainX.shape[1], 1))\n",
    "testX = np.reshape(testX, (testX.shape[0], testX.shape[1], 1))"
   ]
  },
  {
   "cell_type": "code",
   "execution_count": 13,
   "id": "877fd315",
   "metadata": {},
   "outputs": [
    {
     "name": "stdout",
     "output_type": "stream",
     "text": [
      "==================================================Модель node_2\n",
      "Train Score mse: 0.0460 RMSE\n",
      "Test Score mse: 0.0943 RMSE\n",
      "==================================================Модель node_3\n",
      "Train Score mse: 0.0459 RMSE\n",
      "Test Score mse: 0.0950 RMSE\n",
      "==================================================Модель node_4\n",
      "Train Score mse: 0.0448 RMSE\n",
      "Test Score mse: 0.0958 RMSE\n",
      "==================================================Модель node_5\n",
      "Train Score mse: 0.0446 RMSE\n",
      "Test Score mse: 0.1197 RMSE\n",
      "Wall time: 44.9 s\n"
     ]
    }
   ],
   "source": [
    "%%time\n",
    "tf.random.set_seed(1)\n",
    "batch_size = 1\n",
    "models = {}\n",
    "models_res = np.array([0,0])\n",
    "\n",
    "for node in [2, 3, 4, 5]:\n",
    "    print('=' * 50 + f'Модель node_{node}')\n",
    "    model = Sequential(name='node_' + str(node))\n",
    "    model.add(GRU(node, batch_input_shape=(batch_size, look_back, 1), stateful=True))\n",
    "    model.add(Dense(1))\n",
    "    model.compile(loss='mean_squared_error', optimizer='adam', metrics='mse')\n",
    "    for i in range(100):\n",
    "        model.fit(trainX, trainY, epochs=1, batch_size=batch_size, verbose=0, shuffle=False)\n",
    "        model.reset_states()\n",
    "\n",
    "    trainPredict = model.predict(trainX, batch_size=batch_size)\n",
    "    model.reset_states()\n",
    "    testPredict = model.predict(testX, batch_size=batch_size)\n",
    "    \n",
    "    trainScore = math.sqrt(mean_squared_error(trainY, trainPredict[:,0]))\n",
    "    print('Train Score mse: %.4f RMSE' % (trainScore))\n",
    "    testScore = math.sqrt(mean_squared_error(testY, testPredict[:,0]))\n",
    "    print('Test Score mse: %.4f RMSE' % (testScore))\n",
    "\n",
    "    models_res = np.vstack((models_res, np.array([str(model.name), testScore])))\n",
    "    models[str(model.name)] = model"
   ]
  },
  {
   "cell_type": "code",
   "execution_count": 14,
   "id": "84408f87",
   "metadata": {},
   "outputs": [],
   "source": [
    "models_res = models_res[1:]"
   ]
  },
  {
   "cell_type": "code",
   "execution_count": 15,
   "id": "cf4d9f08",
   "metadata": {},
   "outputs": [
    {
     "data": {
      "text/plain": [
       "array([['node_2', '0.09433034487726738'],\n",
       "       ['node_3', '0.09498404496988268'],\n",
       "       ['node_4', '0.09575025763317387'],\n",
       "       ['node_5', '0.11974666942707025']], dtype='<U32')"
      ]
     },
     "execution_count": 15,
     "metadata": {},
     "output_type": "execute_result"
    }
   ],
   "source": [
    "models_res"
   ]
  },
  {
   "cell_type": "markdown",
   "id": "4470cf8e",
   "metadata": {},
   "source": [
    "### Мы видим, что с увеличением количества внутренних узлов, метрика mse снижается. Целесообразно брать 2 или 3"
   ]
  },
  {
   "cell_type": "code",
   "execution_count": 16,
   "id": "2028412b",
   "metadata": {},
   "outputs": [],
   "source": [
    "# Построение графика по лучшим результатам\n",
    "trainPredict = models['node_2'].predict(trainX, batch_size=batch_size)\n",
    "#models['node_2'].reset_states()\n",
    "testPredict = models['node_2'].predict(testX, batch_size=batch_size)\n",
    "\n",
    "trainPredict = scaler.inverse_transform(trainPredict)\n",
    "trainY = scaler.inverse_transform([trainY])\n",
    "testPredict = scaler.inverse_transform(testPredict)\n",
    "testY = scaler.inverse_transform([testY])\n",
    "\n",
    "trainPredictPlot = np.empty_like(df)\n",
    "trainPredictPlot[:, :] = np.nan\n",
    "trainPredictPlot[look_back:len(trainPredict)+look_back, :] = trainPredict\n",
    "\n",
    "testPredictPlot = np.empty_like(df)\n",
    "testPredictPlot[:, :] = np.nan\n",
    "testPredictPlot[len(trainPredict)+(look_back*2)+1:len(df)-1, :] = testPredict"
   ]
  },
  {
   "cell_type": "code",
   "execution_count": 20,
   "id": "db7cb5ed",
   "metadata": {},
   "outputs": [
    {
     "data": {
      "image/png": "[encoded data removed]",
      "text/plain": [
       "<Figure size 432x288 with 1 Axes>"
      ]
     },
     "metadata": {
      "needs_background": "light"
     },
     "output_type": "display_data"
    }
   ],
   "source": [
    "plt.plot(scaler.inverse_transform(df), label='data')\n",
    "plt.plot(trainPredictPlot, label='train')\n",
    "plt.plot(testPredictPlot, '--', label='test')\n",
    "plt.legend()\n",
    "plt.show()"
   ]
  },
  {
   "cell_type": "markdown",
   "id": "6c8a142e",
   "metadata": {},
   "source": [
    "### По сравнениию с LSTM, GRU показала немного лучший результат на тестовых данных. (хотя, лучшие значения приблизительно одинаковые). На тестовых данных, в начале координат, GRU предпочтительнее"
   ]
  },
  {
   "cell_type": "code",
   "execution_count": 23,
   "id": "33d1148e",
   "metadata": {},
   "outputs": [],
   "source": [
    "df = scaler.fit_transform(df)\n",
    "train_size = int(len(df) * 0.67)\n",
    "test_size = len(df) - train_size\n",
    "train, test = df[0:train_size,:], df[train_size:len(df),:]\n",
    "\n",
    "look_back = 3\n",
    "trainX, trainY = create_dataset(train, look_back)\n",
    "testX, testY = create_dataset(test, look_back)\n",
    "\n",
    "trainX = np.reshape(trainX, (trainX.shape[0], trainX.shape[1], 1))\n",
    "testX = np.reshape(testX, (testX.shape[0], testX.shape[1], 1))"
   ]
  },
  {
   "cell_type": "code",
   "execution_count": 24,
   "id": "8bf7a5a4",
   "metadata": {},
   "outputs": [
    {
     "name": "stdout",
     "output_type": "stream",
     "text": [
      "==================================================Модель node_2\n",
      "Train Score mse: 0.0500 RMSE\n",
      "Test Score mse: 0.1607 RMSE\n",
      "==================================================Модель node_4\n",
      "Train Score mse: 0.0428 RMSE\n",
      "Test Score mse: 0.0891 RMSE\n",
      "==================================================Модель node_6\n",
      "Train Score mse: 0.0586 RMSE\n",
      "Test Score mse: 0.1022 RMSE\n",
      "==================================================Модель node_8\n",
      "Train Score mse: 0.0408 RMSE\n",
      "Test Score mse: 0.0991 RMSE\n",
      "Wall time: 36.3 s\n"
     ]
    }
   ],
   "source": [
    "%%time\n",
    "tf.random.set_seed(1)\n",
    "batch_size = 1\n",
    "models = {}\n",
    "models_res = np.array([0,0])\n",
    "\n",
    "for node in [2, 4, 6, 8]:\n",
    "    print('=' * 50 + f'Модель node_{node}')\n",
    "    model = Sequential(name='node_' + str(node))\n",
    "    model.add(SimpleRNN(node, batch_input_shape=(batch_size, look_back, 1), stateful=True))\n",
    "    model.add(Dense(1))\n",
    "    model.compile(loss='mean_squared_error', optimizer='adam', metrics='mse')\n",
    "    for i in range(100):\n",
    "        model.fit(trainX, trainY, epochs=1, batch_size=batch_size, verbose=0, shuffle=False)\n",
    "        model.reset_states()\n",
    "\n",
    "    trainPredict = model.predict(trainX, batch_size=batch_size)\n",
    "    model.reset_states()\n",
    "    testPredict = model.predict(testX, batch_size=batch_size)\n",
    "    \n",
    "    trainScore = math.sqrt(mean_squared_error(trainY, trainPredict[:,0]))\n",
    "    print('Train Score mse: %.4f RMSE' % (trainScore))\n",
    "    testScore = math.sqrt(mean_squared_error(testY, testPredict[:,0]))\n",
    "    print('Test Score mse: %.4f RMSE' % (testScore))\n",
    "\n",
    "    models_res = np.vstack((models_res, np.array([str(model.name), testScore])))\n",
    "    models[str(model.name)] = model"
   ]
  },
  {
   "cell_type": "markdown",
   "id": "3bdc0e34",
   "metadata": {},
   "source": [
    "### С изменение количества внутренних узлов, тенденция изменения метрики качества mse разнонаправленная. Однако по сравнению с LSTM, GRU,в RNN при units = 4, показана наилучшая метрика качества"
   ]
  },
  {
   "cell_type": "code",
   "execution_count": 25,
   "id": "3902a502",
   "metadata": {},
   "outputs": [],
   "source": [
    "# Построение графика по лучшим результатам\n",
    "trainPredict = models['node_4'].predict(trainX, batch_size=batch_size)\n",
    "#models['node_4'].reset_states()\n",
    "testPredict = models['node_4'].predict(testX, batch_size=batch_size)\n",
    "\n",
    "trainPredict = scaler.inverse_transform(trainPredict)\n",
    "trainY = scaler.inverse_transform([trainY])\n",
    "testPredict = scaler.inverse_transform(testPredict)\n",
    "testY = scaler.inverse_transform([testY])\n",
    "\n",
    "trainPredictPlot = np.empty_like(df)\n",
    "trainPredictPlot[:, :] = np.nan\n",
    "trainPredictPlot[look_back:len(trainPredict)+look_back, :] = trainPredict\n",
    "\n",
    "testPredictPlot = np.empty_like(df)\n",
    "testPredictPlot[:, :] = np.nan\n",
    "testPredictPlot[len(trainPredict)+(look_back*2)+1:len(df)-1, :] = testPredict"
   ]
  },
  {
   "cell_type": "code",
   "execution_count": 26,
   "id": "5abcf817",
   "metadata": {},
   "outputs": [
    {
     "data": {
      "image/png": "[encoded data removed]",
      "text/plain": [
       "<Figure size 432x288 with 1 Axes>"
      ]
     },
     "metadata": {
      "needs_background": "light"
     },
     "output_type": "display_data"
    }
   ],
   "source": [
    "plt.plot(scaler.inverse_transform(df), label='data')\n",
    "plt.plot(trainPredictPlot, label='train')\n",
    "plt.plot(testPredictPlot, '--', label='test')\n",
    "plt.legend()\n",
    "plt.show()"
   ]
  },
  {
   "cell_type": "code",
   "execution_count": null,
   "id": "51373efa",
   "metadata": {},
   "outputs": [],
   "source": []
  }
 ],
 "metadata": {
  "kernelspec": {
   "display_name": "Python 3",
   "language": "python",
   "name": "python3"
  },
  "language_info": {
   "codemirror_mode": {
    "name": "ipython",
    "version": 3
   },
   "file_extension": ".py",
   "mimetype": "text/x-python",
   "name": "python",
   "nbconvert_exporter": "python",
   "pygments_lexer": "ipython3",
   "version": "3.8.8"
  }
 },
 "nbformat": 4,
 "nbformat_minor": 5
}
