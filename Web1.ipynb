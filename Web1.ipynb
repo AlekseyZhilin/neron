{
 "cells": [
  {
   "cell_type": "code",
   "execution_count": 1,
   "metadata": {
    "colab": {
     "base_uri": "https://localhost:8080/"
    },
    "executionInfo": {
     "elapsed": 1912,
     "status": "ok",
     "timestamp": 1643736882553,
     "user": {
      "displayName": "Julia Ponomareva",
      "photoUrl": "https://lh3.googleusercontent.com/a-/AOh14Giimaqepqa7diwYfGdfG3eO8yvg2qDwve3KonGv=s64",
      "userId": "14904333240138417226"
     },
     "user_tz": -300
    },
    "id": "Pt9eda5yxpS1",
    "outputId": "d45f7342-ecce-48b5-bc51-3888298e1c5c"
   },
   "outputs": [],
   "source": [
    "import numpy as np\n",
    "import random\n",
    "import matplotlib.pyplot as plt\n",
    "\n",
    "# генерации случайных чисел для инициализации весов\n",
    "np.random.seed(1)\n"
   ]
  },
  {
   "cell_type": "code",
   "execution_count": 2,
   "metadata": {
    "executionInfo": {
     "elapsed": 1470,
     "status": "ok",
     "timestamp": 1643737015860,
     "user": {
      "displayName": "Julia Ponomareva",
      "photoUrl": "https://lh3.googleusercontent.com/a-/AOh14Giimaqepqa7diwYfGdfG3eO8yvg2qDwve3KonGv=s64",
      "userId": "14904333240138417226"
     },
     "user_tz": -300
    },
    "id": "1nxx7rKUxpS4"
   },
   "outputs": [],
   "source": [
    "# вычисление сигмоид функции\n",
    "\n",
    "def sigmoid(x):\n",
    "    return 1 / (1 + np.exp(-x))"
   ]
  },
  {
   "cell_type": "code",
   "execution_count": 3,
   "metadata": {
    "executionInfo": {
     "elapsed": 12,
     "status": "ok",
     "timestamp": 1643737024485,
     "user": {
      "displayName": "Julia Ponomareva",
      "photoUrl": "https://lh3.googleusercontent.com/a-/AOh14Giimaqepqa7diwYfGdfG3eO8yvg2qDwve3KonGv=s64",
      "userId": "14904333240138417226"
     },
     "user_tz": -300
    },
    "id": "5r2NvzpVxpS6"
   },
   "outputs": [],
   "source": [
    "# вычисление Relu функции\n",
    "\n",
    "def ReLU(x):\n",
    "    return x * (x > 0)"
   ]
  },
  {
   "cell_type": "code",
   "execution_count": 4,
   "metadata": {
    "id": "14r5RO-tZv5E"
   },
   "outputs": [],
   "source": [
    "def ReLU_deriv(x):\n",
    "    return 1 if x >= 0 else 0"
   ]
  },
  {
   "cell_type": "code",
   "execution_count": 5,
   "metadata": {
    "executionInfo": {
     "elapsed": 768,
     "status": "ok",
     "timestamp": 1643737920649,
     "user": {
      "displayName": "Julia Ponomareva",
      "photoUrl": "https://lh3.googleusercontent.com/a-/AOh14Giimaqepqa7diwYfGdfG3eO8yvg2qDwve3KonGv=s64",
      "userId": "14904333240138417226"
     },
     "user_tz": -300
    },
    "id": "shMVcQDelkhP"
   },
   "outputs": [],
   "source": [
    "import numpy as np\n",
    "import matplotlib.pyplot as plt\n",
    "\n",
    "\n",
    "# вычисление сигмоид функции\n",
    "def sigmoid(x):\n",
    "    return 1 / (1 + np.exp(-x))\n",
    "\n",
    "# вычисление производной от сигмоид функции\n",
    "def sigmoid_deriv(x):\n",
    "    return sigmoid(x) * (1 - sigmoid(x))"
   ]
  },
  {
   "cell_type": "code",
   "execution_count": 6,
   "metadata": {
    "colab": {
     "base_uri": "https://localhost:8080/",
     "height": 279
    },
    "executionInfo": {
     "elapsed": 51,
     "status": "ok",
     "timestamp": 1643737921592,
     "user": {
      "displayName": "Julia Ponomareva",
      "photoUrl": "https://lh3.googleusercontent.com/a-/AOh14Giimaqepqa7diwYfGdfG3eO8yvg2qDwve3KonGv=s64",
      "userId": "14904333240138417226"
     },
     "user_tz": -300
    },
    "id": "JG_4MLpcvRBL",
    "outputId": "550f705c-8189-4fe7-a482-489ff602cb71"
   },
   "outputs": [
    {
     "data": {
      "image/png": "[encoded data removed]",
      "text/plain": [
       "<Figure size 432x288 with 1 Axes>"
      ]
     },
     "metadata": {
      "needs_background": "light"
     },
     "output_type": "display_data"
    }
   ],
   "source": [
    "# для картинки\n",
    "D  = 10\n",
    "\n",
    "X = np.linspace(0-D, 0+D, 200)\n",
    "Y = sigmoid(X)\n",
    "Y_deriv = sigmoid_deriv(X)\n",
    "\n",
    "plt.plot(X, Y, '-g', label='сигмоид')\n",
    "plt.plot(X, Y_deriv, '-r', label='производная сигмоиды')\n",
    "\n",
    "plt.legend()\n",
    "plt.xlabel('X')\n",
    "plt.ylabel('Y')\n",
    "plt.show()"
   ]
  },
  {
   "cell_type": "code",
   "execution_count": 7,
   "metadata": {
    "colab": {
     "base_uri": "https://localhost:8080/",
     "height": 53
    },
    "executionInfo": {
     "elapsed": 744,
     "status": "ok",
     "timestamp": 1643737977924,
     "user": {
      "displayName": "Julia Ponomareva",
      "photoUrl": "https://lh3.googleusercontent.com/a-/AOh14Giimaqepqa7diwYfGdfG3eO8yvg2qDwve3KonGv=s64",
      "userId": "14904333240138417226"
     },
     "user_tz": -300
    },
    "id": "0SD974ixZazx",
    "outputId": "8421bb70-c6fa-45e2-9641-743c5e83f825"
   },
   "outputs": [
    {
     "data": {
      "text/plain": [
       "array([[0.417022]])"
      ]
     },
     "metadata": {},
     "output_type": "display_data"
    },
    {
     "data": {
      "text/plain": [
       "array([[0.72032449]])"
      ]
     },
     "metadata": {},
     "output_type": "display_data"
    }
   ],
   "source": [
    "# создание данных для обучения\n",
    "X = np.array([[1]])\n",
    "y = np.array([[1]]).T\n",
    "\n",
    "# генерации случайных чисел для инициализации весов\n",
    "np.random.seed(1)\n",
    "weights = np.random.random((X.shape[1], 1))\n",
    "bias = np.random.random((1, 1))\n",
    "\n",
    "display(weights, bias)"
   ]
  },
  {
   "cell_type": "markdown",
   "metadata": {
    "id": "jZcr2ibicKgu"
   },
   "source": [
    "forward"
   ]
  },
  {
   "cell_type": "code",
   "execution_count": 8,
   "metadata": {
    "colab": {
     "base_uri": "https://localhost:8080/"
    },
    "executionInfo": {
     "elapsed": 585,
     "status": "ok",
     "timestamp": 1643739320469,
     "user": {
      "displayName": "Julia Ponomareva",
      "photoUrl": "https://lh3.googleusercontent.com/a-/AOh14Giimaqepqa7diwYfGdfG3eO8yvg2qDwve3KonGv=s64",
      "userId": "14904333240138417226"
     },
     "user_tz": -300
    },
    "id": "d8k3tq4kbT-1",
    "outputId": "b78e9749-bd9c-4c30-e514-4142c8b4ff91"
   },
   "outputs": [
    {
     "data": {
      "text/plain": [
       "array([[0.75719212]])"
      ]
     },
     "execution_count": 8,
     "metadata": {},
     "output_type": "execute_result"
    }
   ],
   "source": [
    "# сделаем предсказание\n",
    "output = X * weights + bias\n",
    "pred = sigmoid(output)\n",
    "pred"
   ]
  },
  {
   "cell_type": "code",
   "execution_count": 9,
   "metadata": {
    "colab": {
     "base_uri": "https://localhost:8080/"
    },
    "executionInfo": {
     "elapsed": 20,
     "status": "ok",
     "timestamp": 1643739320850,
     "user": {
      "displayName": "Julia Ponomareva",
      "photoUrl": "https://lh3.googleusercontent.com/a-/AOh14Giimaqepqa7diwYfGdfG3eO8yvg2qDwve3KonGv=s64",
      "userId": "14904333240138417226"
     },
     "user_tz": -300
    },
    "id": "uBaHFx3EbsbZ",
    "outputId": "e50fda09-5e45-4e18-f068-c4dc446808d6"
   },
   "outputs": [
    {
     "data": {
      "text/plain": [
       "array([[0.05895567]])"
      ]
     },
     "execution_count": 9,
     "metadata": {},
     "output_type": "execute_result"
    }
   ],
   "source": [
    "# ошибка\n",
    "(y - pred) ** 2"
   ]
  },
  {
   "cell_type": "code",
   "execution_count": 10,
   "metadata": {
    "colab": {
     "base_uri": "https://localhost:8080/"
    },
    "executionInfo": {
     "elapsed": 948,
     "status": "ok",
     "timestamp": 1643739309174,
     "user": {
      "displayName": "Julia Ponomareva",
      "photoUrl": "https://lh3.googleusercontent.com/a-/AOh14Giimaqepqa7diwYfGdfG3eO8yvg2qDwve3KonGv=s64",
      "userId": "14904333240138417226"
     },
     "user_tz": -300
    },
    "id": "d0TKc_pKcNtR",
    "outputId": "45540af4-1e0a-4ada-df58-ebfe838e5a14"
   },
   "outputs": [
    {
     "data": {
      "text/plain": [
       "array([[-0.08928153]])"
      ]
     },
     "execution_count": 10,
     "metadata": {},
     "output_type": "execute_result"
    }
   ],
   "source": [
    "# сделаем backprop\n",
    "# dloss/dloss = 1\n",
    "dsigm = 2 * (pred - y)\n",
    "dsigm\n",
    "db = dsigm * sigmoid_deriv(output)\n",
    "db\n",
    "da = 1 * db\n",
    "da\n",
    "dw0 = 1 * db\n",
    "dw0\n",
    "dw1 = da * X\n",
    "dw1"
   ]
  },
  {
   "cell_type": "code",
   "execution_count": 11,
   "metadata": {
    "executionInfo": {
     "elapsed": 9,
     "status": "ok",
     "timestamp": 1643739310541,
     "user": {
      "displayName": "Julia Ponomareva",
      "photoUrl": "https://lh3.googleusercontent.com/a-/AOh14Giimaqepqa7diwYfGdfG3eO8yvg2qDwve3KonGv=s64",
      "userId": "14904333240138417226"
     },
     "user_tz": -300
    },
    "id": "OcyWYrlevPfZ"
   },
   "outputs": [],
   "source": [
    "# обновим параметры\n",
    "bias -= dw0\n",
    "weights -= dw1"
   ]
  },
  {
   "cell_type": "code",
   "execution_count": 12,
   "metadata": {
    "colab": {
     "base_uri": "https://localhost:8080/"
    },
    "executionInfo": {
     "elapsed": 10,
     "status": "ok",
     "timestamp": 1643739311504,
     "user": {
      "displayName": "Julia Ponomareva",
      "photoUrl": "https://lh3.googleusercontent.com/a-/AOh14Giimaqepqa7diwYfGdfG3eO8yvg2qDwve3KonGv=s64",
      "userId": "14904333240138417226"
     },
     "user_tz": -300
    },
    "id": "o235htk3vefB",
    "outputId": "588ba5f0-3061-40ab-815e-467d98c65488"
   },
   "outputs": [
    {
     "data": {
      "text/plain": [
       "array([[0.78850036]])"
      ]
     },
     "execution_count": 12,
     "metadata": {},
     "output_type": "execute_result"
    }
   ],
   "source": [
    "sigmoid(np.dot(X, weights) + bias)"
   ]
  },
  {
   "cell_type": "markdown",
   "metadata": {
    "id": "urUkYJggwZaP"
   },
   "source": [
    "#### Обучение на большем количестве объектов"
   ]
  },
  {
   "cell_type": "code",
   "execution_count": 13,
   "metadata": {
    "colab": {
     "base_uri": "https://localhost:8080/",
     "height": 53
    },
    "executionInfo": {
     "elapsed": 505,
     "status": "ok",
     "timestamp": 1643739657453,
     "user": {
      "displayName": "Julia Ponomareva",
      "photoUrl": "https://lh3.googleusercontent.com/a-/AOh14Giimaqepqa7diwYfGdfG3eO8yvg2qDwve3KonGv=s64",
      "userId": "14904333240138417226"
     },
     "user_tz": -300
    },
    "id": "-vyI2DShwb1i",
    "outputId": "4bdd5178-ce3a-4fb8-abb6-db90351cf460"
   },
   "outputs": [
    {
     "data": {
      "text/plain": [
       "array([[0.417022]])"
      ]
     },
     "metadata": {},
     "output_type": "display_data"
    },
    {
     "data": {
      "text/plain": [
       "array([[0.72032449]])"
      ]
     },
     "metadata": {},
     "output_type": "display_data"
    }
   ],
   "source": [
    "# создание данных для обучения\n",
    "X = np.array([[0], [1]])\n",
    "y = np.array([[0, 1]]).T\n",
    "\n",
    "# генерации случайных чисел для инициализации весов\n",
    "np.random.seed(1)\n",
    "weights = np.random.random((X.shape[1], 1))\n",
    "bias = np.random.random((1, 1))\n",
    "\n",
    "display(weights, bias)"
   ]
  },
  {
   "cell_type": "markdown",
   "metadata": {
    "id": "7vx5tge-wi2g"
   },
   "source": [
    "Forward"
   ]
  },
  {
   "cell_type": "code",
   "execution_count": 14,
   "metadata": {
    "colab": {
     "base_uri": "https://localhost:8080/"
    },
    "executionInfo": {
     "elapsed": 765,
     "status": "ok",
     "timestamp": 1643739675014,
     "user": {
      "displayName": "Julia Ponomareva",
      "photoUrl": "https://lh3.googleusercontent.com/a-/AOh14Giimaqepqa7diwYfGdfG3eO8yvg2qDwve3KonGv=s64",
      "userId": "14904333240138417226"
     },
     "user_tz": -300
    },
    "id": "xdTuxZWgwgjh",
    "outputId": "e7a5f00e-100a-49bf-be86-b98d11298d6c"
   },
   "outputs": [
    {
     "data": {
      "text/plain": [
       "array([[0.67267847],\n",
       "       [0.75719212]])"
      ]
     },
     "execution_count": 14,
     "metadata": {},
     "output_type": "execute_result"
    }
   ],
   "source": [
    "# сделаем предсказание\n",
    "output = X * weights + bias\n",
    "pred = sigmoid(output)\n",
    "pred"
   ]
  },
  {
   "cell_type": "code",
   "execution_count": 15,
   "metadata": {
    "colab": {
     "base_uri": "https://localhost:8080/"
    },
    "executionInfo": {
     "elapsed": 376,
     "status": "ok",
     "timestamp": 1643739682864,
     "user": {
      "displayName": "Julia Ponomareva",
      "photoUrl": "https://lh3.googleusercontent.com/a-/AOh14Giimaqepqa7diwYfGdfG3eO8yvg2qDwve3KonGv=s64",
      "userId": "14904333240138417226"
     },
     "user_tz": -300
    },
    "id": "fUSwP3WywmyI",
    "outputId": "b41586d3-bf82-4fd4-8291-418a395e4da4"
   },
   "outputs": [
    {
     "data": {
      "text/plain": [
       "0.2557259944893541"
      ]
     },
     "execution_count": 15,
     "metadata": {},
     "output_type": "execute_result"
    }
   ],
   "source": [
    "# ошибка\n",
    "np.mean((y - pred) ** 2)"
   ]
  },
  {
   "cell_type": "markdown",
   "metadata": {
    "id": "2HzkMaQywpGU"
   },
   "source": [
    "Backward"
   ]
  },
  {
   "cell_type": "code",
   "execution_count": 16,
   "metadata": {
    "colab": {
     "base_uri": "https://localhost:8080/"
    },
    "executionInfo": {
     "elapsed": 716,
     "status": "ok",
     "timestamp": 1642675313876,
     "user": {
      "displayName": "Julia Ponomareva",
      "photoUrl": "https://lh3.googleusercontent.com/a-/AOh14Giimaqepqa7diwYfGdfG3eO8yvg2qDwve3KonGv=s64",
      "userId": "14904333240138417226"
     },
     "user_tz": -300
    },
    "id": "snGcmlFBwq2Y",
    "outputId": "6bb02471-9d2b-4a59-d844-1c3520e31eca"
   },
   "outputs": [
    {
     "name": "stdout",
     "output_type": "stream",
     "text": [
      "[[ 0.67267847]\n",
      " [-0.24280788]]\n",
      "[[ 0.14811179]\n",
      " [-0.04464077]]\n",
      "[[ 0.14811179]\n",
      " [-0.04464077]]\n",
      "[0.10347102]\n",
      "[-0.04464077]\n"
     ]
    }
   ],
   "source": [
    "# сделаем backprop\n",
    "# dloss/dloss = 1\n",
    "dsigm = (pred - y)\n",
    "print(dsigm)\n",
    "db = dsigm * sigmoid_deriv(output)\n",
    "print(db)\n",
    "da = 1 * db\n",
    "print(da)\n",
    "dw0 = np.ones((X.shape[0])) @ db\n",
    "print(dw0)\n",
    "dw1 = np.ones((X.shape[0])) @ (da * X)\n",
    "# dw1 = da.T @ X\n",
    "print(dw1)"
   ]
  },
  {
   "cell_type": "code",
   "execution_count": 17,
   "metadata": {
    "executionInfo": {
     "elapsed": 834,
     "status": "ok",
     "timestamp": 1643739826196,
     "user": {
      "displayName": "Julia Ponomareva",
      "photoUrl": "https://lh3.googleusercontent.com/a-/AOh14Giimaqepqa7diwYfGdfG3eO8yvg2qDwve3KonGv=s64",
      "userId": "14904333240138417226"
     },
     "user_tz": -300
    },
    "id": "p_0suX4Eww5g"
   },
   "outputs": [],
   "source": [
    "# обновим параметры\n",
    "bias -= dw0\n",
    "weights -= dw1"
   ]
  },
  {
   "cell_type": "code",
   "execution_count": 18,
   "metadata": {
    "colab": {
     "base_uri": "https://localhost:8080/"
    },
    "executionInfo": {
     "elapsed": 24,
     "status": "ok",
     "timestamp": 1643739826677,
     "user": {
      "displayName": "Julia Ponomareva",
      "photoUrl": "https://lh3.googleusercontent.com/a-/AOh14Giimaqepqa7diwYfGdfG3eO8yvg2qDwve3KonGv=s64",
      "userId": "14904333240138417226"
     },
     "user_tz": -300
    },
    "id": "EN5L1dbr0Ttk",
    "outputId": "a693685c-4072-409d-9558-5f7c03d7337b"
   },
   "outputs": [
    {
     "data": {
      "text/plain": [
       "array([[0.64950258],\n",
       "       [0.74621309]])"
      ]
     },
     "execution_count": 18,
     "metadata": {},
     "output_type": "execute_result"
    }
   ],
   "source": [
    "# сделаем предсказания\n",
    "sigmoid(np.dot(X, weights) + bias)"
   ]
  },
  {
   "cell_type": "code",
   "execution_count": 19,
   "metadata": {
    "executionInfo": {
     "elapsed": 489,
     "status": "ok",
     "timestamp": 1643740480807,
     "user": {
      "displayName": "Julia Ponomareva",
      "photoUrl": "https://lh3.googleusercontent.com/a-/AOh14Giimaqepqa7diwYfGdfG3eO8yvg2qDwve3KonGv=s64",
      "userId": "14904333240138417226"
     },
     "user_tz": -300
    },
    "id": "TnLqhNBsZazy"
   },
   "outputs": [],
   "source": [
    "# тренировка нейронной сети\n",
    "def train_nn(X, y, num_iters):\n",
    "    global weights, bias\n",
    "    for n_iter in range(num_iters):\n",
    "        # проход данных через нейрон\n",
    "        output = run_nn(X)\n",
    "\n",
    "        # вычисление ошибки через обратное распространение back-propagation\n",
    "        error = output - y\n",
    "            \n",
    "        # выполнение корректировки весов\n",
    "        grad = np.dot(X.T, error * sigmoid_deriv(output))\n",
    "        grad_bias = np.sum(error * sigmoid_deriv(output), keepdims=1)\n",
    "        weights -= grad\n",
    "        bias -= grad_bias\n",
    "\n",
    "\n",
    "# пропускание входных данных через нейрон и получение предсказания\n",
    "# конвертация значений во floats\n",
    "def run_nn(inputs):\n",
    "    global weights, bias\n",
    "    inputs = inputs.astype(float)\n",
    "    output = sigmoid(np.dot(inputs, weights) + bias)\n",
    "    return output"
   ]
  },
  {
   "cell_type": "code",
   "execution_count": 20,
   "metadata": {
    "colab": {
     "base_uri": "https://localhost:8080/"
    },
    "executionInfo": {
     "elapsed": 5989,
     "status": "ok",
     "timestamp": 1643740497591,
     "user": {
      "displayName": "Julia Ponomareva",
      "photoUrl": "https://lh3.googleusercontent.com/a-/AOh14Giimaqepqa7diwYfGdfG3eO8yvg2qDwve3KonGv=s64",
      "userId": "14904333240138417226"
     },
     "user_tz": -300
    },
    "id": "7Po8MkWVZaz0",
    "outputId": "2535ebce-28ea-4264-f014-0f3baab56746"
   },
   "outputs": [
    {
     "name": "stdout",
     "output_type": "stream",
     "text": [
      "веса до обучения: \n",
      "[[0.417022]] [[0.72032449]]\n",
      "веса после завершения обучения: \n",
      "[[18.21983522]] [[-9.02726036]]\n"
     ]
    }
   ],
   "source": [
    "# генерации случайных чисел для инициализации весов\n",
    "np.random.seed(1)\n",
    "weights = np.random.random((X.shape[1], 1))\n",
    "bias = np.random.random((1, 1))\n",
    "print(\"веса до обучения: \")\n",
    "print(weights, bias)\n",
    "\n",
    "# запуск тренировки нейронной сети \n",
    "train_nn(X, y, 100000)\n",
    "print(\"веса после завершения обучения: \")\n",
    "print(weights, bias)"
   ]
  },
  {
   "cell_type": "code",
   "execution_count": 21,
   "metadata": {
    "colab": {
     "base_uri": "https://localhost:8080/"
    },
    "executionInfo": {
     "elapsed": 930,
     "status": "ok",
     "timestamp": 1643740509790,
     "user": {
      "displayName": "Julia Ponomareva",
      "photoUrl": "https://lh3.googleusercontent.com/a-/AOh14Giimaqepqa7diwYfGdfG3eO8yvg2qDwve3KonGv=s64",
      "userId": "14904333240138417226"
     },
     "user_tz": -300
    },
    "id": "FYuewRwUZaz0",
    "outputId": "82bfa649-9dc2-46bc-b979-129d6f608d71"
   },
   "outputs": [
    {
     "name": "stdout",
     "output_type": "stream",
     "text": [
      "Проверка на новых данных: 0 1\n",
      "Предсказание нейронной сети: \n",
      "[[1.20076629e-04]\n",
      " [9.99898218e-01]]\n"
     ]
    }
   ],
   "source": [
    "user_inp1, user_inp2 = 0, 1\n",
    "print(f\"Проверка на новых данных: {user_inp1} {user_inp2}\")\n",
    "print(\"Предсказание нейронной сети: \")\n",
    "print(run_nn(np.array([[user_inp1], [user_inp2]])))"
   ]
  },
  {
   "cell_type": "markdown",
   "metadata": {
    "id": "UbPEzBco35nQ"
   },
   "source": [
    "### Нейрон для регрессии <a class='anchor' id='reg'>"
   ]
  },
  {
   "cell_type": "code",
   "execution_count": 22,
   "metadata": {
    "executionInfo": {
     "elapsed": 1303,
     "status": "ok",
     "timestamp": 1643740550244,
     "user": {
      "displayName": "Julia Ponomareva",
      "photoUrl": "https://lh3.googleusercontent.com/a-/AOh14Giimaqepqa7diwYfGdfG3eO8yvg2qDwve3KonGv=s64",
      "userId": "14904333240138417226"
     },
     "user_tz": -300
    },
    "id": "6pW0jGfCZ6ju"
   },
   "outputs": [],
   "source": [
    "# вычисление ReLU функции\n",
    "\n",
    "def ReLU(x):\n",
    "    return x * (x > 0)"
   ]
  },
  {
   "cell_type": "code",
   "execution_count": 23,
   "metadata": {
    "executionInfo": {
     "elapsed": 8,
     "status": "ok",
     "timestamp": 1643740550938,
     "user": {
      "displayName": "Julia Ponomareva",
      "photoUrl": "https://lh3.googleusercontent.com/a-/AOh14Giimaqepqa7diwYfGdfG3eO8yvg2qDwve3KonGv=s64",
      "userId": "14904333240138417226"
     },
     "user_tz": -300
    },
    "id": "V_T3b8k1Z6ju"
   },
   "outputs": [],
   "source": [
    "def ReLU_deriv(x):\n",
    "    return np.where(x >= 0, 1, 0)"
   ]
  },
  {
   "cell_type": "code",
   "execution_count": 24,
   "metadata": {
    "colab": {
     "base_uri": "https://localhost:8080/",
     "height": 279
    },
    "executionInfo": {
     "elapsed": 38,
     "status": "ok",
     "timestamp": 1643740551581,
     "user": {
      "displayName": "Julia Ponomareva",
      "photoUrl": "https://lh3.googleusercontent.com/a-/AOh14Giimaqepqa7diwYfGdfG3eO8yvg2qDwve3KonGv=s64",
      "userId": "14904333240138417226"
     },
     "user_tz": -300
    },
    "id": "7n-QyZxWZ6ju",
    "outputId": "3df80152-389a-4c25-e706-27c72aae216f"
   },
   "outputs": [
    {
     "data": {
      "image/png": "[encoded data removed]",
      "text/plain": [
       "<Figure size 432x288 with 1 Axes>"
      ]
     },
     "metadata": {
      "needs_background": "light"
     },
     "output_type": "display_data"
    }
   ],
   "source": [
    "# для картинки\n",
    "D = 10\n",
    "\n",
    "X = np.linspace(0-D, 0+D, 200)\n",
    "Y = ReLU(X)\n",
    "dY = ReLU_deriv(X)\n",
    "\n",
    "plt.plot(X, Y, '-g', label='ReLU')\n",
    "plt.plot(X, dY, '-r', label='d ReLU')\n",
    "plt.legend()\n",
    "plt.xlabel('X')\n",
    "plt.ylabel('Y')\n",
    "plt.show()"
   ]
  },
  {
   "cell_type": "code",
   "execution_count": 25,
   "metadata": {
    "executionInfo": {
     "elapsed": 489,
     "status": "ok",
     "timestamp": 1643740606185,
     "user": {
      "displayName": "Julia Ponomareva",
      "photoUrl": "https://lh3.googleusercontent.com/a-/AOh14Giimaqepqa7diwYfGdfG3eO8yvg2qDwve3KonGv=s64",
      "userId": "14904333240138417226"
     },
     "user_tz": -300
    },
    "id": "wTg32_0936kb"
   },
   "outputs": [],
   "source": [
    "# тренировка нейронной сети\n",
    "def train_nn(X, y, num_iters):\n",
    "    global weights, bias\n",
    "    for n_iter in range(num_iters):\n",
    "        # проход данных через нейрон\n",
    "        output = run_nn(X)\n",
    "\n",
    "        # вычисление ошибки через обратное распространение back-propagation\n",
    "        error = output - y\n",
    "            \n",
    "        # выполнение корректировки весов\n",
    "        grad = np.dot(X.T, error * ReLU_deriv(output))\n",
    "        grad_bias = np.sum(error * ReLU_deriv(output), keepdims=1)\n",
    "        weights -= 0.01 * grad\n",
    "        bias -= 0.01 * grad_bias\n",
    "\n",
    "\n",
    "# пропускание входных данных через нейрон и получение предсказания\n",
    "# конвертация значений во floats\n",
    "def run_nn(inputs):\n",
    "    global weights, bias\n",
    "    inputs = inputs.astype(float)\n",
    "    output = ReLU(np.dot(inputs, weights) + bias)\n",
    "    return output"
   ]
  },
  {
   "cell_type": "code",
   "execution_count": 26,
   "metadata": {
    "colab": {
     "base_uri": "https://localhost:8080/"
    },
    "executionInfo": {
     "elapsed": 822,
     "status": "ok",
     "timestamp": 1643740624319,
     "user": {
      "displayName": "Julia Ponomareva",
      "photoUrl": "https://lh3.googleusercontent.com/a-/AOh14Giimaqepqa7diwYfGdfG3eO8yvg2qDwve3KonGv=s64",
      "userId": "14904333240138417226"
     },
     "user_tz": -300
    },
    "id": "mZKjT7RK4H3j",
    "outputId": "85b31abe-ac1c-4245-819e-4d70f19208c7"
   },
   "outputs": [
    {
     "name": "stdout",
     "output_type": "stream",
     "text": [
      "веса до обучения: \n",
      "[[0.417022]] [[0.72032449]]\n",
      "веса после завершения обучения: \n",
      "[[3.]] [[3.10711067e-15]]\n"
     ]
    }
   ],
   "source": [
    "# создание данных для обучения\n",
    "X = np.array([[1], [3], [2], [4], [7]])\n",
    "y = np.array([[3, 9, 6, 12, 21]]).T\n",
    "\n",
    "# генерации случайных чисел для инициализации весов\n",
    "np.random.seed(1)\n",
    "weights = np.random.random((X.shape[1], 1))\n",
    "bias = np.random.random((1, 1))\n",
    "print(\"веса до обучения: \")\n",
    "print(weights, bias)\n",
    "\n",
    "# запуск тренировки нейронной сети \n",
    "train_nn(X, y, 10000)\n",
    "print(\"веса после завершения обучения: \")\n",
    "print(weights, bias)"
   ]
  },
  {
   "cell_type": "code",
   "execution_count": 27,
   "metadata": {
    "colab": {
     "base_uri": "https://localhost:8080/"
    },
    "executionInfo": {
     "elapsed": 341,
     "status": "ok",
     "timestamp": 1643740638354,
     "user": {
      "displayName": "Julia Ponomareva",
      "photoUrl": "https://lh3.googleusercontent.com/a-/AOh14Giimaqepqa7diwYfGdfG3eO8yvg2qDwve3KonGv=s64",
      "userId": "14904333240138417226"
     },
     "user_tz": -300
    },
    "id": "UfhmtnzL9FBr",
    "outputId": "9094760d-54f5-4826-9509-e48e40ef1527"
   },
   "outputs": [
    {
     "name": "stdout",
     "output_type": "stream",
     "text": [
      "Проверка на новых данных: 5 9\n",
      "Предсказание нейронной сети: \n",
      "[[15.]\n",
      " [27.]]\n"
     ]
    }
   ],
   "source": [
    "user_inp1, user_inp2 = 5, 9\n",
    "print(f\"Проверка на новых данных: {user_inp1} {user_inp2}\")\n",
    "print(\"Предсказание нейронной сети: \")\n",
    "print(run_nn(np.array([[user_inp1], [user_inp2]])))"
   ]
  },
  {
   "cell_type": "markdown",
   "metadata": {
    "id": "_WeS0wye5iDR"
   },
   "source": [
    "### Нейрон для многоклассовой классификации <a class='acnhor' id='multiclass'>"
   ]
  },
  {
   "cell_type": "code",
   "execution_count": 28,
   "metadata": {
    "executionInfo": {
     "elapsed": 580,
     "status": "ok",
     "timestamp": 1643740667777,
     "user": {
      "displayName": "Julia Ponomareva",
      "photoUrl": "https://lh3.googleusercontent.com/a-/AOh14Giimaqepqa7diwYfGdfG3eO8yvg2qDwve3KonGv=s64",
      "userId": "14904333240138417226"
     },
     "user_tz": -300
    },
    "id": "ozb9OSh3xpTI"
   },
   "outputs": [],
   "source": [
    "import numpy as np\n",
    "import matplotlib.pyplot as plt\n",
    "\n",
    "\n",
    "# вычисление сигмоид функции\n",
    "def sigmoid(x):\n",
    "    x = np.clip(x, a_min=-500, a_max=500)\n",
    "    return 1 / (1 + np.exp(-x))\n",
    "\n",
    "# вычисление производной от сигмоид функции\n",
    "def sigmoid_deriv(x):\n",
    "    return sigmoid(x) * (1 - sigmoid(x))"
   ]
  },
  {
   "cell_type": "code",
   "execution_count": 29,
   "metadata": {
    "colab": {
     "base_uri": "https://localhost:8080/",
     "height": 279
    },
    "executionInfo": {
     "elapsed": 25,
     "status": "ok",
     "timestamp": 1642675450007,
     "user": {
      "displayName": "Julia Ponomareva",
      "photoUrl": "https://lh3.googleusercontent.com/a-/AOh14Giimaqepqa7diwYfGdfG3eO8yvg2qDwve3KonGv=s64",
      "userId": "14904333240138417226"
     },
     "user_tz": -300
    },
    "id": "PIC7jBXIxpTI",
    "outputId": "18d22fb5-c41a-4c27-ae26-ec2f67e545ed"
   },
   "outputs": [
    {
     "data": {
      "image/png": "[encoded data removed]",
      "text/plain": [
       "<Figure size 432x288 with 1 Axes>"
      ]
     },
     "metadata": {
      "needs_background": "light"
     },
     "output_type": "display_data"
    }
   ],
   "source": [
    "# для картинки\n",
    "D = 10\n",
    "\n",
    "X = np.linspace(0-D, 0+D, 200)\n",
    "Y = sigmoid(X)\n",
    "dY = sigmoid_deriv(X)\n",
    "\n",
    "plt.plot(X, Y, '-g', label='сигмоид')\n",
    "plt.plot(X, dY, '-r', label='d сигмоид')\n",
    "plt.legend()\n",
    "plt.xlabel('X')\n",
    "plt.ylabel('Y')\n",
    "plt.show()"
   ]
  },
  {
   "cell_type": "code",
   "execution_count": 30,
   "metadata": {
    "colab": {
     "base_uri": "https://localhost:8080/",
     "height": 392
    },
    "executionInfo": {
     "elapsed": 2666,
     "status": "ok",
     "timestamp": 1643740680493,
     "user": {
      "displayName": "Julia Ponomareva",
      "photoUrl": "https://lh3.googleusercontent.com/a-/AOh14Giimaqepqa7diwYfGdfG3eO8yvg2qDwve3KonGv=s64",
      "userId": "14904333240138417226"
     },
     "user_tz": -300
    },
    "id": "z_KsqbZ3xpTJ",
    "outputId": "cd6f8282-628c-4f35-c2b4-20fea0aa2101"
   },
   "outputs": [
    {
     "name": "stdout",
     "output_type": "stream",
     "text": [
      "(1797, 64)\n"
     ]
    },
    {
     "data": {
      "image/png": "[encoded data removed]",
      "text/plain": [
       "<Figure size 1152x432 with 10 Axes>"
      ]
     },
     "metadata": {
      "needs_background": "light"
     },
     "output_type": "display_data"
    }
   ],
   "source": [
    "from sklearn.datasets import load_digits\n",
    "from sklearn.preprocessing import MinMaxScaler\n",
    "import matplotlib.pyplot as plt\n",
    "\n",
    "\n",
    "# Подготовка тренировочных данных\n",
    "X, y = load_digits(return_X_y=True)\n",
    "print(X.shape) # расскоментируйте, чтобы размер данных\n",
    "\n",
    "# репрезентация данных\n",
    "plt.figure(figsize=(16, 6))\n",
    "for i in range(10):\n",
    "    plt.subplot(2, 5, i + 1)\n",
    "    plt.imshow(X[i,:].reshape([8, 8]))"
   ]
  },
  {
   "cell_type": "code",
   "execution_count": 31,
   "metadata": {
    "colab": {
     "base_uri": "https://localhost:8080/"
    },
    "executionInfo": {
     "elapsed": 429,
     "status": "ok",
     "timestamp": 1643740694760,
     "user": {
      "displayName": "Julia Ponomareva",
      "photoUrl": "https://lh3.googleusercontent.com/a-/AOh14Giimaqepqa7diwYfGdfG3eO8yvg2qDwve3KonGv=s64",
      "userId": "14904333240138417226"
     },
     "user_tz": -300
    },
    "id": "_Z1QSqQ0H-C4",
    "outputId": "440dab6c-8f09-46ec-8b92-2c8f1ebec8aa"
   },
   "outputs": [
    {
     "data": {
      "text/plain": [
       "array([0, 1, 2, ..., 8, 9, 8])"
      ]
     },
     "execution_count": 31,
     "metadata": {},
     "output_type": "execute_result"
    }
   ],
   "source": [
    "y"
   ]
  },
  {
   "cell_type": "code",
   "execution_count": 32,
   "metadata": {
    "executionInfo": {
     "elapsed": 700,
     "status": "ok",
     "timestamp": 1643740747354,
     "user": {
      "displayName": "Julia Ponomareva",
      "photoUrl": "https://lh3.googleusercontent.com/a-/AOh14Giimaqepqa7diwYfGdfG3eO8yvg2qDwve3KonGv=s64",
      "userId": "14904333240138417226"
     },
     "user_tz": -300
    },
    "id": "B-KVdVdVxpTJ"
   },
   "outputs": [],
   "source": [
    "def to_one_hot(Y):\n",
    "    n_col = np.max(Y) + 1\n",
    "    binarized = np.zeros((len(Y), n_col))\n",
    "    for i in range(len(Y)):\n",
    "        binarized[i, Y[i]] = 1\n",
    "    return binarized"
   ]
  },
  {
   "cell_type": "code",
   "execution_count": 33,
   "metadata": {
    "colab": {
     "base_uri": "https://localhost:8080/",
     "height": 161
    },
    "executionInfo": {
     "elapsed": 47,
     "status": "ok",
     "timestamp": 1643740747881,
     "user": {
      "displayName": "Julia Ponomareva",
      "photoUrl": "https://lh3.googleusercontent.com/a-/AOh14Giimaqepqa7diwYfGdfG3eO8yvg2qDwve3KonGv=s64",
      "userId": "14904333240138417226"
     },
     "user_tz": -300
    },
    "id": "oNJY5ADWxpTK",
    "outputId": "b61b2b61-c2ee-423b-b925-7bfbc06a22a4"
   },
   "outputs": [
    {
     "data": {
      "text/plain": [
       "array([[1., 0., 0., ..., 0., 0., 0.],\n",
       "       [0., 1., 0., ..., 0., 0., 0.],\n",
       "       [0., 0., 1., ..., 0., 0., 0.],\n",
       "       ...,\n",
       "       [0., 0., 0., ..., 0., 1., 0.],\n",
       "       [0., 0., 0., ..., 0., 0., 1.],\n",
       "       [0., 0., 0., ..., 0., 1., 0.]])"
      ]
     },
     "metadata": {},
     "output_type": "display_data"
    },
    {
     "data": {
      "text/plain": [
       "(1797, 10)"
      ]
     },
     "metadata": {},
     "output_type": "display_data"
    }
   ],
   "source": [
    "# формирование входных данных\n",
    "scaler = MinMaxScaler()\n",
    "X = scaler.fit_transform(X)\n",
    "\n",
    "# формирование выходных данных(результатов)\n",
    "y = y.flatten()\n",
    "y = to_one_hot(y)\n",
    "display(y, y.shape)"
   ]
  },
  {
   "cell_type": "code",
   "execution_count": 34,
   "metadata": {
    "colab": {
     "base_uri": "https://localhost:8080/"
    },
    "executionInfo": {
     "elapsed": 871,
     "status": "ok",
     "timestamp": 1643740789186,
     "user": {
      "displayName": "Julia Ponomareva",
      "photoUrl": "https://lh3.googleusercontent.com/a-/AOh14Giimaqepqa7diwYfGdfG3eO8yvg2qDwve3KonGv=s64",
      "userId": "14904333240138417226"
     },
     "user_tz": -300
    },
    "id": "bBJi_H1LxpTL",
    "outputId": "bae7dce9-e078-40c7-9a64-4a0d9cd4d872"
   },
   "outputs": [
    {
     "data": {
      "text/plain": [
       "((1203, 64), (594, 64))"
      ]
     },
     "execution_count": 34,
     "metadata": {},
     "output_type": "execute_result"
    }
   ],
   "source": [
    "from sklearn.model_selection import train_test_split\n",
    "\n",
    "# Разделение данных на тренировочные и тестовые\n",
    "X_train, X_test, y_train, y_test = train_test_split(X, y, test_size=0.33)\n",
    "X_train.shape, X_test.shape"
   ]
  },
  {
   "cell_type": "code",
   "execution_count": 35,
   "metadata": {
    "executionInfo": {
     "elapsed": 390,
     "status": "ok",
     "timestamp": 1643740848686,
     "user": {
      "displayName": "Julia Ponomareva",
      "photoUrl": "https://lh3.googleusercontent.com/a-/AOh14Giimaqepqa7diwYfGdfG3eO8yvg2qDwve3KonGv=s64",
      "userId": "14904333240138417226"
     },
     "user_tz": -300
    },
    "id": "xLsP8t1kxpTM"
   },
   "outputs": [],
   "source": [
    "# тренировка нейронной сети\n",
    "def train_nn(X, y, num_iters):\n",
    "    global weights\n",
    "    for n_iter in range(num_iters):\n",
    "        # проход данных через нейрон\n",
    "        output = run_nn(X)\n",
    "\n",
    "        # вычисление ошибки через обратное распространение back-propagation\n",
    "        error = output - y\n",
    "        \n",
    "        # выполнение корректировки весов\n",
    "        grad = np.dot(X.T, error * sigmoid_deriv(output))\n",
    "\n",
    "        weights -= 0.01 * grad\n",
    "        \n",
    "        \n",
    "        error = np.mean(np.abs(error))\n",
    "        errors.append(error)\n",
    "        \n",
    "        # получение метрики качества\n",
    "        preds = np.argmax(output, axis=1)\n",
    "        labels = np.argmax(y, axis=1)\n",
    "        accuracy = (preds == labels).sum() * 100 / len(labels)\n",
    "        metrics.append(accuracy)\n",
    "\n",
    "# пропускание входных данных через нейрон и получение предсказания\n",
    "# конвертация значений во floats\n",
    "def run_nn(inputs):\n",
    "    global weights\n",
    "    inputs = inputs.astype(float)\n",
    "    output = sigmoid(np.dot(inputs, weights))\n",
    "    return output"
   ]
  },
  {
   "cell_type": "code",
   "execution_count": 36,
   "metadata": {
    "executionInfo": {
     "elapsed": 443,
     "status": "ok",
     "timestamp": 1643740853708,
     "user": {
      "displayName": "Julia Ponomareva",
      "photoUrl": "https://lh3.googleusercontent.com/a-/AOh14Giimaqepqa7diwYfGdfG3eO8yvg2qDwve3KonGv=s64",
      "userId": "14904333240138417226"
     },
     "user_tz": -300
    },
    "id": "ZTz8-KLDxpTM"
   },
   "outputs": [],
   "source": [
    "# генерации случайных чисел для инициализации весов\n",
    "np.random.seed(1)\n",
    "weights = np.random.random((X_train.shape[1], 10))\n",
    "errors = []\n",
    "metrics = []"
   ]
  },
  {
   "cell_type": "code",
   "execution_count": 37,
   "metadata": {
    "colab": {
     "base_uri": "https://localhost:8080/"
    },
    "executionInfo": {
     "elapsed": 19,
     "status": "ok",
     "timestamp": 1642675504587,
     "user": {
      "displayName": "Julia Ponomareva",
      "photoUrl": "https://lh3.googleusercontent.com/a-/AOh14Giimaqepqa7diwYfGdfG3eO8yvg2qDwve3KonGv=s64",
      "userId": "14904333240138417226"
     },
     "user_tz": -300
    },
    "id": "EzvSfZzzN_yM",
    "outputId": "8359f168-fd6e-4ba6-f443-c0948f1335f1"
   },
   "outputs": [
    {
     "data": {
      "text/plain": [
       "640"
      ]
     },
     "execution_count": 37,
     "metadata": {},
     "output_type": "execute_result"
    }
   ],
   "source": [
    "weights.size"
   ]
  },
  {
   "cell_type": "code",
   "execution_count": 38,
   "metadata": {
    "executionInfo": {
     "elapsed": 567,
     "status": "ok",
     "timestamp": 1643740908154,
     "user": {
      "displayName": "Julia Ponomareva",
      "photoUrl": "https://lh3.googleusercontent.com/a-/AOh14Giimaqepqa7diwYfGdfG3eO8yvg2qDwve3KonGv=s64",
      "userId": "14904333240138417226"
     },
     "user_tz": -300
    },
    "id": "elDc_085xpTM"
   },
   "outputs": [],
   "source": [
    "# запуск тренировки нейронной сети \n",
    "epochs = 20\n",
    "train_nn(X_train, y_train, epochs)"
   ]
  },
  {
   "cell_type": "code",
   "execution_count": 39,
   "metadata": {
    "colab": {
     "base_uri": "https://localhost:8080/",
     "height": 139
    },
    "executionInfo": {
     "elapsed": 573,
     "status": "ok",
     "timestamp": 1643740962898,
     "user": {
      "displayName": "Julia Ponomareva",
      "photoUrl": "https://lh3.googleusercontent.com/a-/AOh14Giimaqepqa7diwYfGdfG3eO8yvg2qDwve3KonGv=s64",
      "userId": "14904333240138417226"
     },
     "user_tz": -300
    },
    "id": "EG4m6LJVxpTN",
    "outputId": "fd904fd1-496b-4926-9ceb-a4bfcc16d9ae"
   },
   "outputs": [
    {
     "name": "stdout",
     "output_type": "stream",
     "text": [
      "Предсказание нейронной сети: \n",
      "2\n"
     ]
    },
    {
     "data": {
      "image/png": "[encoded data removed]",
      "text/plain": [
       "<Figure size 72x72 with 1 Axes>"
      ]
     },
     "metadata": {
      "needs_background": "light"
     },
     "output_type": "display_data"
    }
   ],
   "source": [
    "ind = np.random.randint(0, X_test.shape[0])\n",
    "test_img = X_test[ind]\n",
    "plt.figure(figsize=(1, 1))\n",
    "plt.imshow(test_img.reshape([8,8]))\n",
    "\n",
    "print(\"Предсказание нейронной сети: \")\n",
    "print(np.argmax(run_nn(X_test[ind])))"
   ]
  },
  {
   "cell_type": "code",
   "execution_count": 40,
   "metadata": {
    "colab": {
     "base_uri": "https://localhost:8080/"
    },
    "executionInfo": {
     "elapsed": 442,
     "status": "ok",
     "timestamp": 1643740969384,
     "user": {
      "displayName": "Julia Ponomareva",
      "photoUrl": "https://lh3.googleusercontent.com/a-/AOh14Giimaqepqa7diwYfGdfG3eO8yvg2qDwve3KonGv=s64",
      "userId": "14904333240138417226"
     },
     "user_tz": -300
    },
    "id": "o6fckJQrJHGF",
    "outputId": "b5ec7b72-120a-4654-e215-ebede056e81e"
   },
   "outputs": [
    {
     "data": {
      "text/plain": [
       "array([0.00141616, 0.13769793, 0.93216512, 0.02312001, 0.00229921,\n",
       "       0.02337297, 0.00431845, 0.00625284, 0.06007353, 0.01673659])"
      ]
     },
     "execution_count": 40,
     "metadata": {},
     "output_type": "execute_result"
    }
   ],
   "source": [
    "run_nn(X_test[ind])"
   ]
  },
  {
   "cell_type": "code",
   "execution_count": 41,
   "metadata": {
    "colab": {
     "base_uri": "https://localhost:8080/",
     "height": 334
    },
    "executionInfo": {
     "elapsed": 654,
     "status": "ok",
     "timestamp": 1643740989190,
     "user": {
      "displayName": "Julia Ponomareva",
      "photoUrl": "https://lh3.googleusercontent.com/a-/AOh14Giimaqepqa7diwYfGdfG3eO8yvg2qDwve3KonGv=s64",
      "userId": "14904333240138417226"
     },
     "user_tz": -300
    },
    "id": "9F8GM5tPxpTN",
    "outputId": "9b99146c-420c-471d-a5a3-241bcfad4030"
   },
   "outputs": [
    {
     "data": {
      "image/png": "[encoded data removed]",
      "text/plain": [
       "<Figure size 1152x360 with 1 Axes>"
      ]
     },
     "metadata": {
      "needs_background": "light"
     },
     "output_type": "display_data"
    }
   ],
   "source": [
    "plt.figure(figsize=(16, 5))\n",
    "plt.plot(errors)\n",
    "plt.xlabel('Количество итераций')\n",
    "plt.ylabel('Ошибка')\n",
    "plt.show()"
   ]
  },
  {
   "cell_type": "code",
   "execution_count": 42,
   "metadata": {
    "colab": {
     "base_uri": "https://localhost:8080/",
     "height": 334
    },
    "executionInfo": {
     "elapsed": 447,
     "status": "ok",
     "timestamp": 1643741007136,
     "user": {
      "displayName": "Julia Ponomareva",
      "photoUrl": "https://lh3.googleusercontent.com/a-/AOh14Giimaqepqa7diwYfGdfG3eO8yvg2qDwve3KonGv=s64",
      "userId": "14904333240138417226"
     },
     "user_tz": -300
    },
    "id": "cqpQ4QiuxpTO",
    "outputId": "39910f92-9bfb-4519-cdf9-3982b2147e18"
   },
   "outputs": [
    {
     "data": {
      "image/png": "[encoded data removed]",
      "text/plain": [
       "<Figure size 1152x360 with 1 Axes>"
      ]
     },
     "metadata": {
      "needs_background": "light"
     },
     "output_type": "display_data"
    }
   ],
   "source": [
    "plt.figure(figsize=(16, 5))\n",
    "plt.plot(metrics)\n",
    "plt.xlabel('Количество итераций')\n",
    "plt.ylabel('Accuracy')\n",
    "plt.show()"
   ]
  },
  {
   "cell_type": "code",
   "execution_count": 43,
   "metadata": {
    "colab": {
     "base_uri": "https://localhost:8080/"
    },
    "executionInfo": {
     "elapsed": 1032,
     "status": "ok",
     "timestamp": 1643741030271,
     "user": {
      "displayName": "Julia Ponomareva",
      "photoUrl": "https://lh3.googleusercontent.com/a-/AOh14Giimaqepqa7diwYfGdfG3eO8yvg2qDwve3KonGv=s64",
      "userId": "14904333240138417226"
     },
     "user_tz": -300
    },
    "id": "Fqz-vAKmxpTO",
    "outputId": "9ec76bbc-90da-4dde-e4d2-028378d1e509"
   },
   "outputs": [
    {
     "name": "stdout",
     "output_type": "stream",
     "text": [
      "Accuracy на тесте 88.05%\n"
     ]
    }
   ],
   "source": [
    "test_preds = np.argmax(run_nn(X_test), axis=1)\n",
    "test_labels = np.argmax(y_test, axis=1)\n",
    "\n",
    "test_accuracy = (test_preds == test_labels).sum() * 100 / len(test_labels)\n",
    "print(f'Accuracy на тесте {test_accuracy:.2f}%')"
   ]
  },
  {
   "cell_type": "markdown",
   "metadata": {
    "id": "4j0g47JcxpTO"
   },
   "source": [
    "## Пример построения  двухслойной нейронной сети на numpy <a class='anchor' id='example2'>"
   ]
  },
  {
   "cell_type": "code",
   "execution_count": 44,
   "metadata": {
    "executionInfo": {
     "elapsed": 335,
     "status": "ok",
     "timestamp": 1643741171621,
     "user": {
      "displayName": "Julia Ponomareva",
      "photoUrl": "https://lh3.googleusercontent.com/a-/AOh14Giimaqepqa7diwYfGdfG3eO8yvg2qDwve3KonGv=s64",
      "userId": "14904333240138417226"
     },
     "user_tz": -300
    },
    "id": "0eNNvaYgxpTP"
   },
   "outputs": [],
   "source": [
    "import numpy as np\n",
    "import pandas as pd\n",
    "import seaborn as sns\n",
    "import matplotlib.pyplot as plt\n",
    "\n",
    "import warnings\n",
    "warnings.filterwarnings('ignore')\n",
    "\n",
    "from sklearn.model_selection import train_test_split"
   ]
  },
  {
   "cell_type": "code",
   "execution_count": 45,
   "metadata": {
    "executionInfo": {
     "elapsed": 1309,
     "status": "ok",
     "timestamp": 1643741374686,
     "user": {
      "displayName": "Julia Ponomareva",
      "photoUrl": "https://lh3.googleusercontent.com/a-/AOh14Giimaqepqa7diwYfGdfG3eO8yvg2qDwve3KonGv=s64",
      "userId": "14904333240138417226"
     },
     "user_tz": -300
    },
    "id": "RIeYUSovxpTP"
   },
   "outputs": [],
   "source": [
    "# Обучение нейронной сети\n",
    "\n",
    "# определим число нейронов скрытого слоя\n",
    "neuron_numb = 5\n",
    "\n",
    "# присваивание случайных весов\n",
    "#np.random.seed(1)\n",
    "#w0 = np.random.random((64, neuron_numb))  # для входного слоя    - 64 входа, neuron_numb выходов\n",
    "#w1 = np.random.random((neuron_numb, 10))  # для внутреннего слоя - neuron_numb входов, 10 выходов\n",
    "\n",
    "# скорость обучения (learning rate)\n",
    "learning_rate = 0.1\n",
    "\n",
    "# количество итераций\n",
    "num_epochs = 100\n",
    "\n",
    "# массив для ошибок, чтобы потом построить график\n",
    "errors = []\n",
    "metrics = []\n",
    "#--------------------------------------\n",
    "accuracy_train_list = []\n",
    "accuracy_test_list = []\n",
    "list_val = [[3, 0.1, 100], [4, 0.1, 100], [5, 0.1, 100], [6, 0.1, 100], [7, 0.1, 100], [8, 0.1, 100],\n",
    "           [5, 0.01, 100], [5, 0.05, 100], [5, 0.1, 100], [5, 0.15, 100],\n",
    "           [5, 0.1, 50], [5, 0.1, 100], [5, 0.1, 150], [5, 0.1, 200],\n",
    "           [5, 0.05, 130]]\n",
    "#--------------------------------------\n",
    "# процесс обучения\n",
    "#neuron_numb = 5, learning_rate = 0.1, num_epochs = 100\n",
    "for val in list_val:\n",
    "    def train(X_test, neuron_numb=val[0], learning_rate=val[1], num_epochs=val[2]):\n",
    "        np.random.seed(1)\n",
    "        w0 = np.random.random((64, neuron_numb))  # для входного слоя    - 64 входа, neuron_numb выходов\n",
    "        w1 = np.random.random((neuron_numb, 10))  # для внутреннего слоя - neuron_numb входов, 10 выходов\n",
    "\n",
    "        for i in range(num_epochs):\n",
    "\n",
    "            # прямое распространение(feed forward)\n",
    "            layer0 = X_train\n",
    "            layer1 = sigmoid(np.dot(layer0, w0))\n",
    "            layer2 = sigmoid(np.dot(layer1, w1))\n",
    "\n",
    "            # обратное распространение (back propagation)\n",
    "            # с использованием градиентного спуска\n",
    "            layer2_error = layer2 - y_train  # производная функции потерь\n",
    "            layer2_grad = layer2_error * sigmoid_deriv(layer2)\n",
    "\n",
    "            layer1_error = layer2_grad.dot(w1.T)\n",
    "            layer1_grad = layer1_error * sigmoid_deriv(layer1)\n",
    "\n",
    "            w1 -= layer1.T.dot(layer2_grad) * learning_rate\n",
    "            w0 -= layer0.T.dot(layer1_grad) * learning_rate\n",
    "\n",
    "            # ошибка модели\n",
    "            error = np.mean(np.abs(layer2_error))\n",
    "            errors.append(error)\n",
    "\n",
    "            # метрики качества\n",
    "            preds = np.argmax(layer2, axis=1)\n",
    "            labels = np.argmax(y_train, axis=1)\n",
    "            accuracy = (preds == labels).sum() * 100 / len(labels)\n",
    "            metrics.append(accuracy)\n",
    "\n",
    "        accuracy_train = {accuracy: [neuron_numb, learning_rate, num_epochs]}\n",
    "\n",
    "        #передсказание на тесте\n",
    "        layer0_test = X_test\n",
    "        layer1_test = sigmoid(np.dot(layer0_test, w0))\n",
    "        layer2_test = sigmoid(np.dot(layer1_test, w1))\n",
    "        # метрика модели\n",
    "        preds_test = np.argmax(layer2_test, axis=1)\n",
    "        labels_test = np.argmax(y_test, axis=1)\n",
    "        accuracy_test = (preds_test == labels_test).sum() * 100 / len(labels_test)\n",
    "\n",
    "        accuracy_test_ret = {accuracy_test: [neuron_numb, learning_rate, num_epochs]}\n",
    "\n",
    "        return preds, labels, accuracy, accuracy_train, accuracy_test_ret, errors, metrics, layer0, layer1, layer2, w0, w1\n",
    "\n",
    "\n",
    "    preds, labels, accuracy, accuracy_train, accuracy_test_ret, errors, metrics, layer0, layer1, layer2, w0, w1 = train(X_test)\n",
    "\n",
    "    accuracy_train_list.append(accuracy_train)\n",
    "    accuracy_test_list.append(accuracy_test_ret)"
   ]
  },
  {
   "cell_type": "code",
   "execution_count": 46,
   "metadata": {
    "colab": {
     "base_uri": "https://localhost:8080/",
     "height": 651
    },
    "executionInfo": {
     "elapsed": 2167,
     "status": "ok",
     "timestamp": 1643741378160,
     "user": {
      "displayName": "Julia Ponomareva",
      "photoUrl": "https://lh3.googleusercontent.com/a-/AOh14Giimaqepqa7diwYfGdfG3eO8yvg2qDwve3KonGv=s64",
      "userId": "14904333240138417226"
     },
     "user_tz": -300
    },
    "id": "-RGS2X4FxpTQ",
    "outputId": "a7248aea-a6c5-48ab-a833-64f07ec63627"
   },
   "outputs": [
    {
     "data": {
      "image/png": "[encoded data removed]",
      "text/plain": [
       "<Figure size 1152x360 with 1 Axes>"
      ]
     },
     "metadata": {
      "needs_background": "light"
     },
     "output_type": "display_data"
    },
    {
     "data": {
      "image/png": "[encoded data removed]",
      "text/plain": [
       "<Figure size 1152x360 with 1 Axes>"
      ]
     },
     "metadata": {
      "needs_background": "light"
     },
     "output_type": "display_data"
    }
   ],
   "source": [
    "# Демонстрация полученных результатов\n",
    "# Диаграмма точности в зависимости от обучения\n",
    "plt.figure(figsize=(16, 5))\n",
    "plt.plot(errors)\n",
    "plt.xlabel('Обучение')\n",
    "plt.ylabel('Ошибка')\n",
    "plt.show()\n",
    "\n",
    "plt.figure(figsize=(16, 5))\n",
    "plt.plot(metrics)\n",
    "plt.xlabel('Количество итераций')\n",
    "plt.ylabel('Accuracy')\n",
    "plt.show()"
   ]
  },
  {
   "cell_type": "code",
   "execution_count": 47,
   "metadata": {
    "colab": {
     "base_uri": "https://localhost:8080/"
    },
    "executionInfo": {
     "elapsed": 428,
     "status": "ok",
     "timestamp": 1642675684590,
     "user": {
      "displayName": "Julia Ponomareva",
      "photoUrl": "https://lh3.googleusercontent.com/a-/AOh14Giimaqepqa7diwYfGdfG3eO8yvg2qDwve3KonGv=s64",
      "userId": "14904333240138417226"
     },
     "user_tz": -300
    },
    "id": "fQ0KZZepPxh2",
    "outputId": "cbbfc877-1afb-46b5-9117-efa8258d11b2"
   },
   "outputs": [
    {
     "data": {
      "text/plain": [
       "array([[0., 0., 1., 0., 0., 0., 0., 0., 0., 0.],\n",
       "       [0., 0., 0., 1., 0., 0., 0., 0., 0., 0.],\n",
       "       [0., 0., 0., 0., 1., 0., 0., 0., 0., 0.],\n",
       "       [0., 0., 1., 0., 0., 0., 0., 0., 0., 0.],\n",
       "       [0., 0., 0., 0., 1., 0., 0., 0., 0., 0.],\n",
       "       [0., 0., 0., 1., 0., 0., 0., 0., 0., 0.],\n",
       "       [0., 0., 0., 0., 1., 0., 0., 0., 0., 0.],\n",
       "       [1., 0., 0., 0., 0., 0., 0., 0., 0., 0.],\n",
       "       [0., 1., 0., 0., 0., 0., 0., 0., 0., 0.],\n",
       "       [0., 0., 0., 0., 0., 0., 0., 0., 0., 1.]])"
      ]
     },
     "execution_count": 47,
     "metadata": {},
     "output_type": "execute_result"
    }
   ],
   "source": [
    "y_train[:10]"
   ]
  },
  {
   "cell_type": "code",
   "execution_count": 48,
   "metadata": {
    "colab": {
     "base_uri": "https://localhost:8080/",
     "height": 352
    },
    "executionInfo": {
     "elapsed": 2464,
     "status": "ok",
     "timestamp": 1643741401637,
     "user": {
      "displayName": "Julia Ponomareva",
      "photoUrl": "https://lh3.googleusercontent.com/a-/AOh14Giimaqepqa7diwYfGdfG3eO8yvg2qDwve3KonGv=s64",
      "userId": "14904333240138417226"
     },
     "user_tz": -300
    },
    "id": "buD3QL6dLhg8",
    "outputId": "1d7407d7-f2f0-4993-ea03-0173fe8a13a9"
   },
   "outputs": [
    {
     "data": {
      "image/png": "[encoded data removed]",
      "text/plain": [
       "<Figure size 1152x360 with 1 Axes>"
      ]
     },
     "metadata": {
      "needs_background": "light"
     },
     "output_type": "display_data"
    },
    {
     "name": "stdout",
     "output_type": "stream",
     "text": [
      "accuracy на обучении 61.26%\n"
     ]
    }
   ],
   "source": [
    "N = 10\n",
    "label = 2\n",
    "plt.figure(figsize=(16, 5))\n",
    "plt.plot(layer2[:N, label], 'r', label='y pred')\n",
    "plt.plot(y_train[:N, label],'g', label='y train')\n",
    "plt.xticks(np.arange(N))\n",
    "plt.xlabel('№ примера')\n",
    "plt.ylabel('выход сети и целевой')\n",
    "plt.legend()\n",
    "plt.show()\n",
    "        \n",
    "print(f\"accuracy на обучении {accuracy:.2f}%\")"
   ]
  },
  {
   "cell_type": "code",
   "execution_count": 49,
   "metadata": {
    "colab": {
     "base_uri": "https://localhost:8080/",
     "height": 352
    },
    "executionInfo": {
     "elapsed": 425,
     "status": "ok",
     "timestamp": 1643741480228,
     "user": {
      "displayName": "Julia Ponomareva",
      "photoUrl": "https://lh3.googleusercontent.com/a-/AOh14Giimaqepqa7diwYfGdfG3eO8yvg2qDwve3KonGv=s64",
      "userId": "14904333240138417226"
     },
     "user_tz": -300
    },
    "id": "lRmoi3hzxpTQ",
    "outputId": "a6d2ddd7-8903-4240-9bf8-0ab2f306539d"
   },
   "outputs": [
    {
     "data": {
      "image/png": "[encoded data removed]",
      "text/plain": [
       "<Figure size 1152x360 with 1 Axes>"
      ]
     },
     "metadata": {
      "needs_background": "light"
     },
     "output_type": "display_data"
    },
    {
     "name": "stdout",
     "output_type": "stream",
     "text": [
      "accuracy на тесте 56.90%\n"
     ]
    }
   ],
   "source": [
    "# прямое распространение(feed forward)\n",
    "layer0_test = X_test\n",
    "layer1_test = sigmoid(np.dot(layer0_test, w0))\n",
    "layer2_test = sigmoid(np.dot(layer1_test, w1))\n",
    "    \n",
    "    \n",
    "N = 20\n",
    "plt.figure(figsize=(16, 5))\n",
    "plt.plot(layer2_test[:N, 1], 'r', label='y pred')\n",
    "plt.plot(y_test[:N, 1], 'g', label='y test')\n",
    "plt.xticks(np.arange(N))\n",
    "plt.xlabel('№ примера')\n",
    "plt.ylabel('выход сети и целевой')\n",
    "plt.legend()\n",
    "plt.show()\n",
    "\n",
    "# метрика модели\n",
    "preds_test = np.argmax(layer2_test, axis=1)\n",
    "labels_test = np.argmax(y_test, axis=1)\n",
    "accuracy_test = (preds_test == labels_test).sum() * 100 / len(labels_test)\n",
    "\n",
    "print(f\"accuracy на тесте {accuracy_test:.2f}%\")"
   ]
  },
  {
   "cell_type": "markdown",
   "metadata": {
    "id": "-s2i6Hz1xpTR"
   },
   "source": [
    "В этом уроке мы с вами рассматривали, как сделать простые нейронные сети без использования специальных фреймворков и библиотек для этого. В следующих уроках мы с вами познакомимся, как делать нейронные сети с помощью Keras и TensorFlow."
   ]
  },
  {
   "cell_type": "markdown",
   "metadata": {
    "id": "5S8aG2KqxpTR"
   },
   "source": [
    "## Домашнее задание <a class='anchor' id='hw'>\n",
    "\n",
    "1. Попробуйте видоизменить параметры разобранной на уроке двухслойной нейронной сети таким образом, чтобы улучшить ее точность.\n",
    "2. Проведите анализ — что приводит к ухудшению точности нейронной сети?\n",
    "3. Что приводит к увеличению ее точности?"
   ]
  },
  {
   "cell_type": "markdown",
   "metadata": {},
   "source": [
    "### Для выполнения домашнего задания, код двухслойной нейронной сети и, дополнительно, предсказаний на тесте, был обёрнут в функцию. Данная функция вызывалась в цикле, где на каждой итерации цикла в функцию передавался список иследуемых значений. Результаты выполнения функции записывались в список из словарей, где ключём выступало значение accuracy, а значениями - значения иследуемых параметров. Далее производится сравнительный анализ данных значений "
   ]
  },
  {
   "cell_type": "code",
   "execution_count": 50,
   "metadata": {},
   "outputs": [
    {
     "data": {
      "text/plain": [
       "[{22.27763923524522: [3, 0.1, 100]},\n",
       " {30.92269326683292: [4, 0.1, 100]},\n",
       " {52.70157938487115: [5, 0.1, 100]},\n",
       " {28.761429758935993: [6, 0.1, 100]},\n",
       " {60.0166251039069: [7, 0.1, 100]},\n",
       " {60.68162926018287: [8, 0.1, 100]},\n",
       " {50.20781379883624: [5, 0.01, 100]},\n",
       " {57.85536159600998: [5, 0.05, 100]},\n",
       " {52.70157938487115: [5, 0.1, 100]},\n",
       " {22.194513715710723: [5, 0.15, 100]},\n",
       " {9.559434746467165: [5, 0.1, 50]},\n",
       " {52.70157938487115: [5, 0.1, 100]},\n",
       " {44.80465502909393: [5, 0.1, 150]},\n",
       " {48.29592684954281: [5, 0.1, 200]},\n",
       " {61.26350789692435: [5, 0.05, 130]}]"
      ]
     },
     "execution_count": 50,
     "metadata": {},
     "output_type": "execute_result"
    }
   ],
   "source": [
    "accuracy_train_list"
   ]
  },
  {
   "cell_type": "code",
   "execution_count": 51,
   "metadata": {},
   "outputs": [
    {
     "data": {
      "text/plain": [
       "[{26.5993265993266: [3, 0.1, 100]},\n",
       " {31.64983164983165: [4, 0.1, 100]},\n",
       " {50.168350168350166: [5, 0.1, 100]},\n",
       " {34.84848484848485: [6, 0.1, 100]},\n",
       " {46.8013468013468: [7, 0.1, 100]},\n",
       " {55.21885521885522: [8, 0.1, 100]},\n",
       " {48.484848484848484: [5, 0.01, 100]},\n",
       " {54.377104377104374: [5, 0.05, 100]},\n",
       " {50.168350168350166: [5, 0.1, 100]},\n",
       " {12.794612794612794: [5, 0.15, 100]},\n",
       " {20.875420875420875: [5, 0.1, 50]},\n",
       " {50.168350168350166: [5, 0.1, 100]},\n",
       " {45.28619528619529: [5, 0.1, 150]},\n",
       " {37.71043771043771: [5, 0.1, 200]},\n",
       " {56.9023569023569: [5, 0.05, 130]}]"
      ]
     },
     "execution_count": 51,
     "metadata": {},
     "output_type": "execute_result"
    }
   ],
   "source": [
    "accuracy_test_list"
   ]
  },
  {
   "cell_type": "markdown",
   "metadata": {},
   "source": [
    "# Выводы"
   ]
  },
  {
   "cell_type": "markdown",
   "metadata": {},
   "source": [
    "### 1) Увеличение числа нейронов скрытого слоя neuron_numb, влияет на accuracy разнонаправлено - в основном с повышением количества нейронов, точность возрастает на train и test, но при значении равным 6, происходит резкое ухудшение метрики качества\n"
   ]
  },
  {
   "cell_type": "markdown",
   "metadata": {},
   "source": [
    "### 2) Параметры скорость обучения (learning rate) и количество итераций (num_epochs) взаимосвязаны, т.к. чем меньше скорость обучения, тем точнее обучается модель, но может произойти остановка из-за исчерпания количества итераций. Поэтому необходим баланс - скорость обучения, чем меньше тем лучше, но при этом необходимо помнить про увеличение числа итераций. При фиксированных количествах итераций, локальный максимум достигается при значении скорости обучения приблизительно 0.05\n"
   ]
  },
  {
   "cell_type": "markdown",
   "metadata": {},
   "source": [
    "### 3) Увеличение числа итераций на train приводит к повышению метрики качества, но на test с определённого значения (приблизительно 150), происходит ухудшение метрики  качества"
   ]
  },
  {
   "cell_type": "markdown",
   "metadata": {},
   "source": [
    "### Таким образом, наилучшая комбинация параметров на train и test - neuron_numb = 5,learning rate = 0.05, num_epochs = 130 "
   ]
  },
  {
   "cell_type": "markdown",
   "metadata": {},
   "source": [
    "### значения accuracy_train = 61.26350789692435, accuracy_test = 56.9023569023569"
   ]
  }
 ],
 "metadata": {
  "colab": {
   "collapsed_sections": [
    "TWX2iLhFxpTS",
    "IADnOuFBxpTS"
   ],
   "name": "Web1.ipynb",
   "provenance": [],
   "toc_visible": true
  },
  "kernelspec": {
   "display_name": "Python 3",
   "language": "python",
   "name": "python3"
  },
  "language_info": {
   "codemirror_mode": {
    "name": "ipython",
    "version": 3
   },
   "file_extension": ".py",
   "mimetype": "text/x-python",
   "name": "python",
   "nbconvert_exporter": "python",
   "pygments_lexer": "ipython3",
   "version": "3.8.8"
  }
 },
 "nbformat": 4,
 "nbformat_minor": 1
}
